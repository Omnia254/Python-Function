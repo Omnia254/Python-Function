{
 "cells": [
  {
   "cell_type": "code",
   "execution_count": 6,
   "id": "2bf7fb83",
   "metadata": {},
   "outputs": [
    {
     "name": "stdout",
     "output_type": "stream",
     "text": [
      "Omnia\n",
      "Sayed\n",
      "Hamed\n"
     ]
    }
   ],
   "source": [
    "def my_function_name(firstname):\n",
    "  print (firstname)\n",
    "  \n",
    "# Now you can call printme function\n",
    "my_function_name(\"Omnia\")\n",
    "my_function_name(\"Sayed\")\n",
    "my_function_name(\"Hamed\")"
   ]
  },
  {
   "cell_type": "code",
   "execution_count": 19,
   "id": "4dfde4f2",
   "metadata": {},
   "outputs": [
    {
     "name": "stdout",
     "output_type": "stream",
     "text": [
      "omnia\n"
     ]
    }
   ],
   "source": [
    "# Function definition is here\n",
    "def printme( str ):\n",
    "    #\"This prints a passed string into this function\"\n",
    "    print(str)\n",
    "    return;\n",
    "   \n",
    "   # Now you can call printme function\n",
    "printme(\"omnia\")\n"
   ]
  },
  {
   "cell_type": "code",
   "execution_count": 23,
   "id": "aa6cdd47",
   "metadata": {},
   "outputs": [
    {
     "name": "stdout",
     "output_type": "stream",
     "text": [
      "My string\n"
     ]
    }
   ],
   "source": [
    "# Function definition is here\n",
    "def printme( str ):\n",
    "#\"This prints a passed string into this function\"\n",
    "    print (str)\n",
    "    return;\n",
    "   # Now you can call printme function\n",
    "printme( str = \"My string\")"
   ]
  },
  {
   "cell_type": "code",
   "execution_count": 24,
   "id": "40e7e267",
   "metadata": {},
   "outputs": [
    {
     "name": "stdout",
     "output_type": "stream",
     "text": [
      "Name:  Omnia\n",
      "Age  50\n"
     ]
    }
   ],
   "source": [
    "def printinfo( name, age ):\n",
    "#\"This prints a passed info into this function\"\n",
    "   print (\"Name: \", name)\n",
    "   print (\"Age \", age)\n",
    "   return;\n",
    " # Now you can call printinfo function\n",
    "printinfo( age=50, name=\"Omnia\" )"
   ]
  },
  {
   "cell_type": "code",
   "execution_count": 26,
   "id": "fa8c404e",
   "metadata": {},
   "outputs": [
    {
     "name": "stdout",
     "output_type": "stream",
     "text": [
      "Name:  Omnia\n",
      "Age  20\n",
      "Name:  Omnia\n",
      "Age  35\n"
     ]
    }
   ],
   "source": [
    "# Function definition is here\n",
    "def printinfo( name, age = 35 ):\n",
    "#\"This prints a passed info into this function\"\n",
    "   print (\"Name: \", name)\n",
    "   print (\"Age \", age)\n",
    "   return;\n",
    "   # Now you can call printinfo function\n",
    "printinfo( age=20, name=\"Omnia\" )\n",
    "printinfo( name=\"Omnia\" )"
   ]
  },
  {
   "cell_type": "code",
   "execution_count": 34,
   "id": "a52f455f",
   "metadata": {},
   "outputs": [
    {
     "name": "stdout",
     "output_type": "stream",
     "text": [
      "Output is:\n",
      "10\n",
      "Output is:\n",
      "70\n",
      "60\n"
     ]
    }
   ],
   "source": [
    "# Function definition is here\n",
    "def printinfo( arg1, *vartuple ):\n",
    "#\"This prints a variable passed arguments\"\n",
    "   print (\"Output is:\")\n",
    "   print (arg1)\n",
    "   for var in vartuple:\n",
    "    print (var)\n",
    "    return;\n",
    "   # Now you can call printinfo function\n",
    "printinfo( 10 )\n",
    "printinfo( 70, 60, 50 )"
   ]
  },
  {
   "cell_type": "code",
   "execution_count": null,
   "id": "6db5670e",
   "metadata": {},
   "outputs": [],
   "source": []
  }
 ],
 "metadata": {
  "kernelspec": {
   "display_name": "Python 3",
   "language": "python",
   "name": "python3"
  },
  "language_info": {
   "codemirror_mode": {
    "name": "ipython",
    "version": 3
   },
   "file_extension": ".py",
   "mimetype": "text/x-python",
   "name": "python",
   "nbconvert_exporter": "python",
   "pygments_lexer": "ipython3",
   "version": "3.8.8"
  }
 },
 "nbformat": 4,
 "nbformat_minor": 5
}
